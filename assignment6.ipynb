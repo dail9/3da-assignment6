{
 "cells": [
  {
   "cell_type": "raw",
   "metadata": {},
   "source": [
    "---\n",
    "title: STATS 3DA3\n",
    "subtitle: Homework Assignment 6\n",
    "author: \"Pratheepa Jeganathan\"\n",
    "date: 04/04/2024\n",
    "format: pdf\n",
    "header-includes:\n",
    "   - \\usepackage{amsmath}\n",
    "   - \\usepackage{bbm}\n",
    "   - \\usepackage{array}\n",
    "   - \\usepackage{multirow}\n",
    "   - \\usepackage{graphicx}\n",
    "   - \\usepackage{float}\n",
    "   - \\usepackage{apacite}\n",
    "   - \\usepackage{natbib}\n",
    "execute: \n",
    "  echo: true\n",
    "fontsize: 11pt\n",
    "geometry: margin = 1in\n",
    "linestretch: 1.5\n",
    "bibliography: ass6.bib\n",
    "---"
   ]
  },
  {
   "cell_type": "markdown",
   "metadata": {},
   "source": [
    "## Chronic Kidney Disease Classification Challenge\n",
    "\n",
    "### Overview\n",
    "\n",
    "Engage with the dataset from the [Early Stage of Indians Chronic Kidney Disease (CKD)](https://archive.ics.uci.edu/dataset/336/chronic+kidney+disease) project, which comprises data on 250 early-stage CKD patients and 150 healthy controls.\n",
    "\n",
    "For foundational knowledge on the subject, refer to \"Predict, diagnose, and treat chronic kidney disease with machine learning: a systematic literature review\" by [Sanmarchi et al., (2023)](https://link.springer.com/article/10.1007/s40620-023-01573-4).\n",
    "\n",
    "### Objectives\n",
    "\n",
    "Analyze the dataset using two classification algorithms, focusing on exploratory data analysis, feature selection, engineering, and especially on handling missing values and outliers. Summarize your findings with insightful conclusions.\n",
    "\n",
    "**Classifier Requirement:** Ensure at least one of the classifiers is interpretable, to facilitate in-depth analysis and inference.\n",
    "\n",
    "### Guidelines\n",
    "\n",
    "- **Teamwork:** Group submissions should compile the workflow (Python codes and interpretations) into a single PDF, including a GitHub repository link. The contributions listed should reflect the GitHub activity.\n",
    "- **Content:** Address the following questions in your submission, offering detailed insights and conclusions from your analysis.\n",
    "\n",
    "### Assignment Questions\n",
    "\n",
    "1. **Classification Problem Identification:** Define and describe a classification problem based on the dataset.\n",
    "2. **Variable Transformation:** Implement any transformations chosen or justify the absence of such modifications.\n",
    "3. **Dataset Overview:** Provide a detailed description of the dataset, covering variables, summaries, observation counts, data types, and distributions (at least three statements).\n",
    "4. **Association Between Variables:** Analyze variable relationships and their implications for feature selection or extraction (at least three statements).\n",
    "5. **Missing Value Analysis and Handling:** Implement your strategy for identifying and addressing missing values in the dataset, or provide reasons for not addressing them.\n",
    "6. **Outlier Analysis:** Implement your approach for identifying and managing outliers, or provide reasons for not addressing them.\n",
    "7. **Sub-group Analysis:** Explore potential sub-groups within the data, employing appropriate data science methods to find the sub-groups of patients and visualize the sub-groups. The sub-group analysis must not include the labels (for CKD patients and healthy controls).\n",
    "8. **Data Splitting:** Segregate 30% of the data for testing, using a random seed of 1. Use the remaining 70% for training and model selection.\n",
    "9. **Classifier Choices:** Identify the two classifiers you have chosen and justify your selections.\n",
    "10. **Performance Metrics:** Outline the two metrics for comparing the performance of the classifiers.\n",
    "11. **Feature Selection/Extraction:** Implement methods to enhance the performance of at least one classifier in (9). The answer for this question can be included in (12).\n",
    "12. **Classifier Comparison:** Utilize the selected metrics to compare the classifiers based on the test set. Discuss your findings (at least two statements).\n",
    "13. **Interpretable Classifier Insight:** After re-training the interpretable classifier with all available data, analyze and interpret the significance of predictor variables in the context of the data and the challenge (at least two statements).\n",
    "14. **[Bonus]** Sub-group Improvement Strategy: If sub-groups were identified, propose and implement a method to improve one classifier performance further. Compare the performance of the new classifer with the results in (12).\n",
    "15. **Team Contributions:** Document each team member's specific contributions related to the questions above.\n",
    "16. **Link** to the public GitHub repository.\n",
    "\n",
    "### Notes\n",
    "\n",
    "- This assignment encourages you to apply sophisticated machine learning methods to a vital healthcare challenge, promoting the development of critical analytical skills, teamwork, and practical problem-solving abilities in the context of chronic kidney disease diagnosis and treatment.\n",
    "- Students can choose one classifer not covered in the lectures."
   ]
  },
  {
   "cell_type": "markdown",
   "metadata": {},
   "source": [
    "# algorithm 1:"
   ]
  },
  {
   "cell_type": "raw",
   "metadata": {},
   "source": [
    "#"
   ]
  },
  {
   "cell_type": "raw",
   "metadata": {},
   "source": []
  },
  {
   "cell_type": "markdown",
   "metadata": {},
   "source": []
  },
  {
   "cell_type": "markdown",
   "metadata": {},
   "source": [
    "\\newpage\n",
    "\n",
    "## Grading scheme \n",
    "\n",
    "\\begin{table}[H]\n",
    "\\begin{tabular}{p{0.15\\textwidth}  p{0.65\\textwidth}}\n",
    "1.   & Answer [1]\\\\\n",
    "2.   & Codes [2] \\\\\n",
    "     & OR answer [2]\\\\\n",
    "3.   & Codes [3] and answer [3]\\\\\n",
    "4.   & Codes [2] and answer [3]\\\\\n",
    "5.   & Codes [2]\\\\\n",
    "     & OR answer [2]\\\\\n",
    "6.   & Codes [2] \\\\\n",
    "     & OR answer [2]\\\\\n",
    "7.   & Codes [3] and Plot [1]\\\\\n",
    "8.   & Codes [1]\\\\\n",
    "9.   & Answers [2]\\\\\n",
    "10.   & Describe the two metrics [2]\\\\\n",
    "11.   & Codes [2] \\\\\n",
    "      & these codes can be included in (12)\\\\\n",
    "12.   & Codes (two classifiers training,\\\\\n",
    "     & model selection for each classifier, \\\\\n",
    "     & classifiers comparisons) [5] and answer [2]\\\\\n",
    "13.   & Codes [1] and answers [2]\\\\\n",
    "14.   & Codes and comparison will \\\\\n",
    "     & give \\textbf{bonus 2 points for the final grade}.\\\\\n",
    "\\end{tabular}\n",
    "\\end{table}\n",
    "\n",
    "**The maximum point for this assignment is 39. We will convert this to 100%.**\n",
    "\n",
    "**All group members will receive the same grade if they contribute to the same.**\n"
   ]
  }
 ],
 "metadata": {
  "language_info": {
   "name": "python"
  }
 },
 "nbformat": 4,
 "nbformat_minor": 2
}
