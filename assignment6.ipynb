{
 "cells": [
  {
   "cell_type": "markdown",
   "metadata": {},
   "source": [
    "---\n",
    "title: STATS 3DA3\n",
    "subtitle: Homework Assignment 6\n",
    "author: \"Pratheepa Jeganathan\"\n",
    "date: 04/04/2024\n",
    "format: pdf\n",
    "header-includes:\n",
    "   - \\usepackage{amsmath}\n",
    "   - \\usepackage{bbm}\n",
    "   - \\usepackage{array}\n",
    "   - \\usepackage{multirow}\n",
    "   - \\usepackage{graphicx}\n",
    "   - \\usepackage{float}\n",
    "   - \\usepackage{apacite}\n",
    "   - \\usepackage{natbib}\n",
    "execute: \n",
    "  echo: true\n",
    "fontsize: 11pt\n",
    "geometry: margin = 1in\n",
    "linestretch: 1.5\n",
    "bibliography: ass6.bib\n",
    "---"
   ]
  },
  {
   "cell_type": "markdown",
   "metadata": {},
   "source": [
    "## Chronic Kidney Disease Classification Challenge\n",
    "\n",
    "### Overview\n",
    "\n",
    "Engage with the dataset from the [Early Stage of Indians Chronic Kidney Disease (CKD)](https://archive.ics.uci.edu/dataset/336/chronic+kidney+disease) project, which comprises data on 250 early-stage CKD patients and 150 healthy controls.\n",
    "\n",
    "For foundational knowledge on the subject, refer to \"Predict, diagnose, and treat chronic kidney disease with machine learning: a systematic literature review\" by [Sanmarchi et al., (2023)](https://link.springer.com/article/10.1007/s40620-023-01573-4).\n",
    "\n",
    "### Objectives\n",
    "\n",
    "Analyze the dataset using two classification algorithms, focusing on exploratory data analysis, feature selection, engineering, and especially on handling missing values and outliers. Summarize your findings with insightful conclusions.\n",
    "\n",
    "**Classifier Requirement:** Ensure at least one of the classifiers is interpretable, to facilitate in-depth analysis and inference.\n",
    "\n",
    "### Guidelines\n",
    "\n",
    "- **Teamwork:** Group submissions should compile the workflow (Python codes and interpretations) into a single PDF, including a GitHub repository link. The contributions listed should reflect the GitHub activity.\n",
    "- **Content:** Address the following questions in your submission, offering detailed insights and conclusions from your analysis.\n",
    "\n",
    "### Assignment Questions\n",
    "\n",
    "1. **Classification Problem Identification:** Define and describe a classification problem based on the dataset.\n",
    "2. **Variable Transformation:** Implement any transformations chosen or justify the absence of such modifications.\n",
    "3. **Dataset Overview:** Provide a detailed description of the dataset, covering variables, summaries, observation counts, data types, and distributions (at least three statements).\n",
    "4. **Association Between Variables:** Analyze variable relationships and their implications for feature selection or extraction (at least three statements).\n",
    "5. **Missing Value Analysis and Handling:** Implement your strategy for identifying and addressing missing values in the dataset, or provide reasons for not addressing them.\n",
    "6. **Outlier Analysis:** Implement your approach for identifying and managing outliers, or provide reasons for not addressing them.\n",
    "7. **Sub-group Analysis:** Explore potential sub-groups within the data, employing appropriate data science methods to find the sub-groups of patients and visualize the sub-groups. The sub-group analysis must not include the labels (for CKD patients and healthy controls).\n",
    "8. **Data Splitting:** Segregate 30% of the data for testing, using a random seed of 1. Use the remaining 70% for training and model selection.\n",
    "9. **Classifier Choices:** Identify the two classifiers you have chosen and justify your selections.\n",
    "10. **Performance Metrics:** Outline the two metrics for comparing the performance of the classifiers.\n",
    "11. **Feature Selection/Extraction:** Implement methods to enhance the performance of at least one classifier in (9). The answer for this question can be included in (12).\n",
    "12. **Classifier Comparison:** Utilize the selected metrics to compare the classifiers based on the test set. Discuss your findings (at least two statements).\n",
    "13. **Interpretable Classifier Insight:** After re-training the interpretable classifier with all available data, analyze and interpret the significance of predictor variables in the context of the data and the challenge (at least two statements).\n",
    "14. **[Bonus]** Sub-group Improvement Strategy: If sub-groups were identified, propose and implement a method to improve one classifier performance further. Compare the performance of the new classifer with the results in (12).\n",
    "15. **Team Contributions:** Document each team member's specific contributions related to the questions above.\n",
    "16. **Link** to the public GitHub repository.\n",
    "\n",
    "### Notes\n",
    "\n",
    "- This assignment encourages you to apply sophisticated machine learning methods to a vital healthcare challenge, promoting the development of critical analytical skills, teamwork, and practical problem-solving abilities in the context of chronic kidney disease diagnosis and treatment.\n",
    "- Students can choose one classifer not covered in the lectures."
   ]
  },
  {
   "cell_type": "markdown",
   "metadata": {},
   "source": [
    "Algorithm1:"
   ]
  },
  {
   "cell_type": "markdown",
   "metadata": {},
   "source": [
    "1. **Classification Problem Identification:** Define and describe a classification problem based on the dataset."
   ]
  },
  {
   "cell_type": "code",
   "execution_count": 2,
   "metadata": {},
   "outputs": [],
   "source": [
    "import pandas as pd\n",
    "import numpy as np\n",
    "import matplotlib.pyplot as plt\n",
    "import seaborn as sns\n",
    "\n",
    "from sklearn.model_selection import train_test_split, cross_val_score\n",
    "from sklearn.metrics import mean_squared_error, confusion_matrix, classification_report\n",
    "from sklearn.tree import DecisionTreeClassifier, DecisionTreeRegressor, plot_tree"
   ]
  },
  {
   "cell_type": "code",
   "execution_count": 3,
   "metadata": {},
   "outputs": [
    {
     "name": "stdout",
     "output_type": "stream",
     "text": [
      "Requirement already satisfied: ucimlrepo in ./.conda/lib/python3.9/site-packages (0.0.6)\n",
      "Note: you may need to restart the kernel to use updated packages.\n"
     ]
    }
   ],
   "source": [
    "pip install ucimlrepo"
   ]
  },
  {
   "cell_type": "code",
   "execution_count": 4,
   "metadata": {},
   "outputs": [
    {
     "name": "stdout",
     "output_type": "stream",
     "text": [
      "{'uci_id': 336, 'name': 'Chronic Kidney Disease', 'repository_url': 'https://archive.ics.uci.edu/dataset/336/chronic+kidney+disease', 'data_url': 'https://archive.ics.uci.edu/static/public/336/data.csv', 'abstract': 'This dataset can be used to predict the chronic kidney disease and it can be collected from the hospital nearly 2 months of period.', 'area': 'Other', 'tasks': ['Classification'], 'characteristics': ['Multivariate'], 'num_instances': 400, 'num_features': 24, 'feature_types': ['Real'], 'demographics': ['Age'], 'target_col': ['class'], 'index_col': None, 'has_missing_values': 'yes', 'missing_values_symbol': 'NaN', 'year_of_dataset_creation': 2015, 'last_updated': 'Mon Mar 04 2024', 'dataset_doi': '10.24432/C5G020', 'creators': ['L. Rubini', 'P. Soundarapandian', 'P. Eswaran'], 'intro_paper': None, 'additional_info': {'summary': 'We use the following representation to collect the dataset\\r\\n                        age\\t\\t-\\tage\\t\\r\\n\\t\\t\\tbp\\t\\t-\\tblood pressure\\r\\n\\t\\t\\tsg\\t\\t-\\tspecific gravity\\r\\n\\t\\t\\tal\\t\\t-   \\talbumin\\r\\n\\t\\t\\tsu\\t\\t-\\tsugar\\r\\n\\t\\t\\trbc\\t\\t-\\tred blood cells\\r\\n\\t\\t\\tpc\\t\\t-\\tpus cell\\r\\n\\t\\t\\tpcc\\t\\t-\\tpus cell clumps\\r\\n\\t\\t\\tba\\t\\t-\\tbacteria\\r\\n\\t\\t\\tbgr\\t\\t-\\tblood glucose random\\r\\n\\t\\t\\tbu\\t\\t-\\tblood urea\\r\\n\\t\\t\\tsc\\t\\t-\\tserum creatinine\\r\\n\\t\\t\\tsod\\t\\t-\\tsodium\\r\\n\\t\\t\\tpot\\t\\t-\\tpotassium\\r\\n\\t\\t\\themo\\t\\t-\\themoglobin\\r\\n\\t\\t\\tpcv\\t\\t-\\tpacked cell volume\\r\\n\\t\\t\\twc\\t\\t-\\twhite blood cell count\\r\\n\\t\\t\\trc\\t\\t-\\tred blood cell count\\r\\n\\t\\t\\thtn\\t\\t-\\thypertension\\r\\n\\t\\t\\tdm\\t\\t-\\tdiabetes mellitus\\r\\n\\t\\t\\tcad\\t\\t-\\tcoronary artery disease\\r\\n\\t\\t\\tappet\\t\\t-\\tappetite\\r\\n\\t\\t\\tpe\\t\\t-\\tpedal edema\\r\\n\\t\\t\\tane\\t\\t-\\tanemia\\r\\n\\t\\t\\tclass\\t\\t-\\tclass\\t', 'purpose': None, 'funded_by': None, 'instances_represent': None, 'recommended_data_splits': None, 'sensitive_data': None, 'preprocessing_description': None, 'variable_info': 'We use 24 + class = 25 ( 11  numeric ,14  nominal)\\r\\n1.Age(numerical)\\r\\n  \\t  \\tage in years\\r\\n \\t2.Blood Pressure(numerical)\\r\\n\\t       \\tbp in mm/Hg\\r\\n \\t3.Specific Gravity(nominal)\\r\\n\\t  \\tsg - (1.005,1.010,1.015,1.020,1.025)\\r\\n \\t4.Albumin(nominal)\\r\\n\\t\\tal - (0,1,2,3,4,5)\\r\\n \\t5.Sugar(nominal)\\r\\n\\t\\tsu - (0,1,2,3,4,5)\\r\\n \\t6.Red Blood Cells(nominal)\\r\\n\\t\\trbc - (normal,abnormal)\\r\\n \\t7.Pus Cell (nominal)\\r\\n\\t\\tpc - (normal,abnormal)\\r\\n \\t8.Pus Cell clumps(nominal)\\r\\n\\t\\tpcc - (present,notpresent)\\r\\n \\t9.Bacteria(nominal)\\r\\n\\t\\tba  - (present,notpresent)\\r\\n \\t10.Blood Glucose Random(numerical)\\t\\t\\r\\n\\t\\tbgr in mgs/dl\\r\\n \\t11.Blood Urea(numerical)\\t\\r\\n\\t\\tbu in mgs/dl\\r\\n \\t12.Serum Creatinine(numerical)\\t\\r\\n\\t\\tsc in mgs/dl\\r\\n \\t13.Sodium(numerical)\\r\\n\\t\\tsod in mEq/L\\r\\n \\t14.Potassium(numerical)\\t\\r\\n\\t\\tpot in mEq/L\\r\\n \\t15.Hemoglobin(numerical)\\r\\n\\t\\themo in gms\\r\\n \\t16.Packed  Cell Volume(numerical)\\r\\n \\t17.White Blood Cell Count(numerical)\\r\\n\\t\\twc in cells/cumm\\r\\n \\t18.Red Blood Cell Count(numerical)\\t\\r\\n\\t\\trc in millions/cmm\\r\\n \\t19.Hypertension(nominal)\\t\\r\\n\\t\\thtn - (yes,no)\\r\\n \\t20.Diabetes Mellitus(nominal)\\t\\r\\n\\t\\tdm - (yes,no)\\r\\n \\t21.Coronary Artery Disease(nominal)\\r\\n\\t\\tcad - (yes,no)\\r\\n \\t22.Appetite(nominal)\\t\\r\\n\\t\\tappet - (good,poor)\\r\\n \\t23.Pedal Edema(nominal)\\r\\n\\t\\tpe - (yes,no)\\t\\r\\n \\t24.Anemia(nominal)\\r\\n\\t\\tane - (yes,no)\\r\\n \\t25.Class (nominal)\\t\\t\\r\\n\\t\\tclass - (ckd,notckd)', 'citation': None}}\n",
      "     name     role         type demographic              description  \\\n",
      "0     age  Feature      Integer         Age                     None   \n",
      "1      bp  Feature      Integer        None           blood pressure   \n",
      "2      sg  Feature  Categorical        None         specific gravity   \n",
      "3      al  Feature  Categorical        None                  albumin   \n",
      "4      su  Feature  Categorical        None                    sugar   \n",
      "5     rbc  Feature       Binary        None          red blood cells   \n",
      "6      pc  Feature       Binary        None                 pus cell   \n",
      "7     pcc  Feature       Binary        None          pus cell clumps   \n",
      "8      ba  Feature       Binary        None                 bacteria   \n",
      "9     bgr  Feature      Integer        None     blood glucose random   \n",
      "10     bu  Feature      Integer        None               blood urea   \n",
      "11     sc  Feature   Continuous        None         serum creatinine   \n",
      "12    sod  Feature      Integer        None                   sodium   \n",
      "13    pot  Feature   Continuous        None                potassium   \n",
      "14   hemo  Feature   Continuous        None               hemoglobin   \n",
      "15    pcv  Feature      Integer        None       packed cell volume   \n",
      "16   wbcc  Feature      Integer        None   white blood cell count   \n",
      "17   rbcc  Feature   Continuous        None     red blood cell count   \n",
      "18    htn  Feature       Binary        None             hypertension   \n",
      "19     dm  Feature       Binary        None        diabetes mellitus   \n",
      "20    cad  Feature       Binary        None  coronary artery disease   \n",
      "21  appet  Feature       Binary        None                 appetite   \n",
      "22     pe  Feature       Binary        None              pedal edema   \n",
      "23    ane  Feature       Binary        None                   anemia   \n",
      "24  class   Target       Binary        None           ckd or not ckd   \n",
      "\n",
      "           units missing_values  \n",
      "0           year            yes  \n",
      "1          mm/Hg            yes  \n",
      "2           None            yes  \n",
      "3           None            yes  \n",
      "4           None            yes  \n",
      "5           None            yes  \n",
      "6           None            yes  \n",
      "7           None            yes  \n",
      "8           None            yes  \n",
      "9         mgs/dl            yes  \n",
      "10        mgs/dl            yes  \n",
      "11        mgs/dl            yes  \n",
      "12         mEq/L            yes  \n",
      "13         mEq/L            yes  \n",
      "14           gms            yes  \n",
      "15          None            yes  \n",
      "16     cells/cmm            yes  \n",
      "17  millions/cmm            yes  \n",
      "18          None            yes  \n",
      "19          None            yes  \n",
      "20          None            yes  \n",
      "21          None            yes  \n",
      "22          None            yes  \n",
      "23          None            yes  \n",
      "24          None             no  \n"
     ]
    }
   ],
   "source": [
    "from ucimlrepo import fetch_ucirepo \n",
    "  \n",
    "# fetch dataset \n",
    "chronic_kidney_disease = fetch_ucirepo(id=336) \n",
    "  \n",
    "# data (as pandas dataframes) \n",
    "X = chronic_kidney_disease.data.features \n",
    "y = chronic_kidney_disease.data.targets \n",
    "  \n",
    "# metadata \n",
    "print(chronic_kidney_disease.metadata) \n",
    "  \n",
    "# variable information \n",
    "print(chronic_kidney_disease.variables) \n"
   ]
  },
  {
   "cell_type": "code",
   "execution_count": 6,
   "metadata": {},
   "outputs": [
    {
     "ename": "TypeError",
     "evalue": "'NoneType' object is not callable",
     "output_type": "error",
     "traceback": [
      "\u001b[0;31m---------------------------------------------------------------------------\u001b[0m",
      "\u001b[0;31mTypeError\u001b[0m                                 Traceback (most recent call last)",
      "Cell \u001b[0;32mIn[6], line 1\u001b[0m\n\u001b[0;32m----> 1\u001b[0m \u001b[43mchronic_kidney_disease\u001b[49m\u001b[38;5;241;43m.\u001b[39;49m\u001b[43mhead\u001b[49m\u001b[43m(\u001b[49m\u001b[38;5;241;43m5\u001b[39;49m\u001b[43m)\u001b[49m\n",
      "\u001b[0;31mTypeError\u001b[0m: 'NoneType' object is not callable"
     ]
    }
   ],
   "source": [
    "chronic_kidney_disease.head(5)"
   ]
  },
  {
   "cell_type": "markdown",
   "metadata": {},
   "source": [
    "\\newpage\n",
    "\n",
    "## Grading scheme \n",
    "\n",
    "\\begin{table}[H]\n",
    "\\begin{tabular}{p{0.15\\textwidth}  p{0.65\\textwidth}}\n",
    "1.   & Answer [1]\\\\\n",
    "2.   & Codes [2] \\\\\n",
    "     & OR answer [2]\\\\\n",
    "3.   & Codes [3] and answer [3]\\\\\n",
    "4.   & Codes [2] and answer [3]\\\\\n",
    "5.   & Codes [2]\\\\\n",
    "     & OR answer [2]\\\\\n",
    "6.   & Codes [2] \\\\\n",
    "     & OR answer [2]\\\\\n",
    "7.   & Codes [3] and Plot [1]\\\\\n",
    "8.   & Codes [1]\\\\\n",
    "9.   & Answers [2]\\\\\n",
    "10.   & Describe the two metrics [2]\\\\\n",
    "11.   & Codes [2] \\\\\n",
    "      & these codes can be included in (12)\\\\\n",
    "12.   & Codes (two classifiers training,\\\\\n",
    "     & model selection for each classifier, \\\\\n",
    "     & classifiers comparisons) [5] and answer [2]\\\\\n",
    "13.   & Codes [1] and answers [2]\\\\\n",
    "14.   & Codes and comparison will \\\\\n",
    "     & give \\textbf{bonus 2 points for the final grade}.\\\\\n",
    "\\end{tabular}\n",
    "\\end{table}\n",
    "\n",
    "**The maximum point for this assignment is 39. We will convert this to 100%.**\n",
    "\n",
    "**All group members will receive the same grade if they contribute to the same.**\n"
   ]
  }
 ],
 "metadata": {
  "kernelspec": {
   "display_name": "Python 3",
   "language": "python",
   "name": "python3"
  },
  "language_info": {
   "codemirror_mode": {
    "name": "ipython",
    "version": 3
   },
   "file_extension": ".py",
   "mimetype": "text/x-python",
   "name": "python",
   "nbconvert_exporter": "python",
   "pygments_lexer": "ipython3",
   "version": "3.9.19"
  }
 },
 "nbformat": 4,
 "nbformat_minor": 2
}
